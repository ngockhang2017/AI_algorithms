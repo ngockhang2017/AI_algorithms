{
 "cells": [
  {
   "cell_type": "markdown",
   "metadata": {},
   "source": [
    "Thuật toán \"BIDIRECTIONAL SEARCH\" Dựa Vào Thuật Toán \"BREATH FIRST SEARCH\""
   ]
  },
  {
   "cell_type": "code",
   "execution_count": null,
   "metadata": {},
   "outputs": [
    {
     "name": "stdout",
     "output_type": "stream",
     "text": [
      "| Node  | Forward Frontiers         | Backward Frontiers        | Forward Reached           | Backward Reached          |\n",
      "| A     | -                         | -                         | A                         | H                         |\n",
      "| B     | C                         | -                         | B, A                      | H, E                      |\n",
      "| C     | D, E                      | -                         | C, B, A                   | B, H, E                   |\n",
      "### Bidirectional Search Successful! ###\n"
     ]
    }
   ],
   "source": [
    "# def bidirectional_search(graph, start_node, goal_node):\n",
    "#     forward_visited = set()\n",
    "#     backward_visited = set()\n",
    "#     forward_frontier = [start_node]\n",
    "#     backward_frontier = [goal_node]\n",
    "\n",
    "#     # In ra các tên cột của bảng\n",
    "#     print(f\"| {'Node':<5} | {'Forward Frontiers':<25} | {'Backward Frontiers':<25} | {'Forward Reached':<25} | {'Backward Reached':<25} |\")\n",
    "\n",
    "#     while forward_frontier and backward_frontier:\n",
    "#         forward_current = forward_frontier.pop(0)\n",
    "#         backward_current = backward_frontier.pop(0)\n",
    "\n",
    "#         forward_visited.add(forward_current)\n",
    "#         backward_visited.add(backward_current)\n",
    "\n",
    "#         # In thông tin hiện tại ra màn hình\n",
    "#         forward_frontiers = ', '.join(forward_frontier) if forward_frontier else '-'\n",
    "#         backward_frontiers = ', '.join(backward_frontier) if backward_frontier else '-'\n",
    "#         forward_reached = ', '.join(forward_visited)\n",
    "#         backward_reached = ', '.join(backward_visited)\n",
    "#         print(f\"| {forward_current:<5} | {forward_frontiers:<25} | {backward_frontiers:<25} | {forward_reached:<25} | {backward_reached:<25} |\")\n",
    "\n",
    "#         if forward_current == goal_node or backward_current == start_node or forward_current in backward_visited or backward_current in forward_visited:\n",
    "#             print(\"### Bidirectional Search Successful! ###\")\n",
    "#             return\n",
    "\n",
    "#         # Mở rộng đỉnh kề của forward_current và backward_current\n",
    "#         forward_frontier.extend(neighbor for neighbor in graph[forward_current] if neighbor not in forward_visited)\n",
    "#         backward_frontier.extend(neighbor for neighbor in graph[backward_current] if neighbor not in backward_visited)\n",
    "\n",
    "\n",
    "# example_graph = {\n",
    "#     'A': ['B', 'C'],\n",
    "#     'B': ['A', 'D', 'E'],\n",
    "#     'C': ['A', 'F', 'G'],\n",
    "#     'D': ['B'],\n",
    "#     'E': ['B', 'H'],\n",
    "#     'F': ['C'],\n",
    "#     'G': ['C'],\n",
    "#     'H': ['E']\n",
    "# }\n",
    "\n",
    "# #đỉnh bắt đầu là 'A' và đỉnh kết thúc là 'H'\n",
    "# bidirectional_search(example_graph, 'A', 'H')\n"
   ]
  }
 ],
 "metadata": {
  "kernelspec": {
   "display_name": "Python 3",
   "language": "python",
   "name": "python3"
  },
  "language_info": {
   "codemirror_mode": {
    "name": "ipython",
    "version": 3
   },
   "file_extension": ".py",
   "mimetype": "text/x-python",
   "name": "python",
   "nbconvert_exporter": "python",
   "pygments_lexer": "ipython3",
   "version": "3.11.5"
  }
 },
 "nbformat": 4,
 "nbformat_minor": 2
}
