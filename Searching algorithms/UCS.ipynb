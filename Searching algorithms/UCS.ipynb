{
 "cells": [
  {
   "cell_type": "markdown",
   "metadata": {},
   "source": [
    "*THUẬT TOÁN UNIFORM - COST SEARCH"
   ]
  },
  {
   "cell_type": "code",
   "execution_count": 3,
   "metadata": {},
   "outputs": [],
   "source": [
    "from collections import defaultdict\n",
    "from queue import PriorityQueue"
   ]
  },
  {
   "cell_type": "code",
   "execution_count": 22,
   "metadata": {},
   "outputs": [
    {
     "name": "stdout",
     "output_type": "stream",
     "text": [
      "| Node  | Frontiers                 | Reached                   | Cost       |\n",
      "| A     | -                         | A                         | 0          |\n",
      "| B     | T, S                      | A, B                      | 75         |\n",
      "| T     | S, O                      | T, A, B                   | 118        |\n",
      "| S     | O, L                      | S, T, A, B                | 140        |\n",
      "| O     | R, L, O, F                | A, O, S, T, B             | 146        |\n",
      "| R     | L, F, O                   | A, O, S, T, R, B          | 220        |\n",
      "| L     | F, P, O, C                | A, O, S, T, L, R, B       | 229        |\n",
      "| F     | O, M, P, C                | A, O, F, S, T, L, R, B    | 239        |\n",
      "| M     | P, C, Bu                  | A, O, F, S, T, M, L, R, B | 299        |\n",
      "| P     | C, D, Bu                  | A, O, F, P, S, T, M, L, R, B | 317        |\n",
      "| C     | D, Bu, Bu, C              | A, O, F, P, S, T, M, L, R, B, C | 366        |\n",
      "| D     | Bu, C, Bu, D              | A, O, F, D, P, S, T, M, L, R, B, C | 374        |\n",
      "| Bu    | Bu, C, D                  | A, O, F, D, P, S, T, Bu, M, L, R, B, C | 418        |\n",
      "| U     | G                         | A, O, F, D, U, P, S, T, Bu, M, L, R, B, C | 503        |\n",
      "| G     | H, V                      | G, A, O, F, D, U, P, S, T, Bu, M, L, R, B, C | 508        |\n",
      "| H     | V                         | G, A, O, F, D, U, H, P, S, T, Bu, M, L, R, B, C | 601        |\n",
      "| V     | E                         | G, A, O, F, D, V, U, H, P, S, T, Bu, M, L, R, B, C | 645        |\n",
      "| E     | I                         | G, A, O, F, D, V, E, U, H, P, S, T, Bu, M, L, R, B, C | 687        |\n",
      "| I     | -                         | H, S, T, A, U, M, V, L, C, G, R, O, I, E, P, Bu, B, F, D | 737        |\n",
      "| N     | -                         | H, S, T, A, U, M, V, L, C, G, R, O, I, E, P, Bu, B, N, F, D | 824        |\n",
      "******************************************************************************************************\n",
      "| Node  | Frontiers                 | Reached                   | Cost       |\n",
      "| A     | -                         | A                         | 0          |\n",
      "| B     | C                         | A, B                      | 1          |\n",
      "| D     | C, E                      | D, A, B                   | 3          |\n",
      "| C     | E                         | C, D, A, B                | 4          |\n",
      "| E     | F, G                      | A, D, E, C, B             | 6          |\n",
      "| F     | G, H                      | A, F, D, E, C, B          | 7          |\n",
      "| G     | H                         | A, F, D, E, C, G, B       | 11         |\n",
      "| H     | -                         | A, F, D, E, H, C, G, B    | 14         |\n"
     ]
    }
   ],
   "source": [
    "import heapq\n",
    "\n",
    "def uniform_cost_search(graph, start_node):\n",
    "    visited = set()  # Tập hợp để lưu các đỉnh đã được thăm\n",
    "    priority_queue = [(0, start_node)]  # Hàng đợi ưu tiên để theo dõi các nút và chi phí tích lũy\n",
    "\n",
    "    # In bảng tiêu đề\n",
    "    print(f\"| {'Node':<5} | {'Frontiers':<25} | {'Reached':<25} | {'Cost':<10} |\")\n",
    "\n",
    "    while priority_queue:\n",
    "        cost, current_node = heapq.heappop(priority_queue)  # Lấy nút có chi phí thấp nhất từ hàng đợi\n",
    "\n",
    "        if current_node not in visited:\n",
    "            visited.add(current_node)  # Đánh dấu đỉnh hiện tại là đã thăm\n",
    "\n",
    "            # In thông tin hiện tại ra màn hình\n",
    "            frontiers = ', '.join(node for _, node in priority_queue) if priority_queue else '-'\n",
    "            reached = ', '.join(visited)\n",
    "            print(f\"| {current_node:<5} | {frontiers:<25} | {reached:<25} | {cost:<10} |\")\n",
    "\n",
    "            # Thêm các đỉnh kề chưa được thăm vào hàng đợi ưu tiên\n",
    "            for neighbor, edge_cost in graph[current_node].items():\n",
    "                if neighbor not in visited:\n",
    "                    heapq.heappush(priority_queue, (cost + edge_cost, neighbor))\n",
    "                    \n",
    "example_graph_1 = {\n",
    "    'A': {'B': 1, 'C': 4},\n",
    "    'B': {'A': 1, 'D': 2, 'E': 5},\n",
    "    'C': {'A': 4, 'F': 3, 'G': 7},\n",
    "    'D': {'B': 2},\n",
    "    'E': {'B': 5, 'H': 8},\n",
    "    'F': {'C': 3},\n",
    "    'G': {'C': 7},\n",
    "    'H': {'E': 8}\n",
    "}\n",
    "\n",
    "example_graph = {  # graph này là cho bài toàn romania cô ạ\n",
    "    'A': {'B': 75, 'S': 140, 'T': 118},\n",
    "    'B': {'A': 75, 'O': 71},\n",
    "    'O': {'B': 71, 'S': 151},\n",
    "    'S': {'A': 140, 'O': 151, 'F': 99, 'R': 80},\n",
    "    'T': {'A': 118, 'L': 111},\n",
    "    'L': {'T': 111, 'M': 70},\n",
    "    'M': {'L': 70, 'D': 75},\n",
    "    'D': {'M': 75, 'C' :120},\n",
    "    'C': {'D': 120, 'R': 146, 'P': 138},\n",
    "    'R': {'S': 80, 'C': 146, 'P': 97},\n",
    "    'F': {'S': 99, 'Bu': 211},\n",
    "    'P': {'R': 97, 'C': 138, 'Bu': 101},\n",
    "    'Bu': {'F': 211, 'P': 101, 'U': 85, 'G': 90},\n",
    "    'U': {'Bu': 85, 'V': 142, 'H': 98},\n",
    "    'V': {'U': 142, 'I': 92},\n",
    "    'I': {'V': 92, 'N': 87},\n",
    "    'N': {'I': 87},\n",
    "    'H': {'U': 98, 'E': 86},\n",
    "    'E': {'H': 86},\n",
    "    'G': {'Bu': 90}\n",
    "}\n",
    "# Gọi hàm UCS với đỉnh bắt đầu là 'A'\n",
    "uniform_cost_search(example_graph, 'A')\n",
    "print('******************************************************************************************************')\n",
    "uniform_cost_search(example_graph_1, 'A')"
   ]
  }
 ],
 "metadata": {
  "kernelspec": {
   "display_name": "Python 3",
   "language": "python",
   "name": "python3"
  },
  "language_info": {
   "codemirror_mode": {
    "name": "ipython",
    "version": 3
   },
   "file_extension": ".py",
   "mimetype": "text/x-python",
   "name": "python",
   "nbconvert_exporter": "python",
   "pygments_lexer": "ipython3",
   "version": "3.11.5"
  }
 },
 "nbformat": 4,
 "nbformat_minor": 2
}
