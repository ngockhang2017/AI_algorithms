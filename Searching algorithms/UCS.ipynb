{
 "cells": [
  {
   "cell_type": "markdown",
   "metadata": {},
   "source": [
    "Thuật toán BFS"
   ]
  },
  {
   "cell_type": "code",
   "execution_count": 2,
   "metadata": {},
   "outputs": [],
   "source": [
    "from collections import defaultdict\n",
    "from queue import PriorityQueue"
   ]
  },
  {
   "cell_type": "code",
   "execution_count": 3,
   "metadata": {},
   "outputs": [],
   "source": [
    "data =  defaultdict(list)\n",
    "data['A'] = ['B', 2, 'C', 1, 'D',3]\n",
    "data['B'] = ['E', 5, 'F', 4]\n",
    "data['C'] = ['G', 6, 'H', 3]\n",
    "data['D'] = ['I', 2, 'J', 4]\n",
    "data['F'] = ['K', 2, 'L', 1, 'M',4]\n",
    "data['H'] = ['N', 2, 'O', 4]"
   ]
  },
  {
   "cell_type": "code",
   "execution_count": 4,
   "metadata": {},
   "outputs": [],
   "source": [
    "class Node:\n",
    "   #g la tong cost cho den Node do\n",
    "  def __init__ (self, name, par = None, g = 0):\n",
    "    self.name = name\n",
    "    self.par = par\n",
    "    self.g = g\n",
    "  \n",
    "  def Display(self):\n",
    "    print(self.name, self.g)\n",
    "  \n",
    "  # less than\n",
    "  def __lt__(self, other):\n",
    "    if other == None:\n",
    "      return False\n",
    "    return self.g < other.g\n",
    "\n",
    "  # equal\n",
    "  def __eq__(self, other):\n",
    "    if other == None:\n",
    "      return False\n",
    "    return self.name == other.name"
   ]
  },
  {
   "cell_type": "code",
   "execution_count": 5,
   "metadata": {},
   "outputs": [],
   "source": [
    "def equal(O, G):\n",
    "  if O.name == G.name:\n",
    "    return True\n",
    "  return False\n",
    "\n",
    "# check xem nut co thuoc queue hay khong\n",
    "def checkInPoriority(tmp, c):\n",
    "  if tmp == None:\n",
    "    return False\n",
    "  return (tmp in c.queue) #use __eq__\n",
    "\n",
    "def getPath(O):\n",
    "  print(O.name)\n",
    "  if O.par != None:\n",
    "    getPath(O.par)\n",
    "  else:\n",
    "    return"
   ]
  },
  {
   "cell_type": "code",
   "execution_count": 6,
   "metadata": {},
   "outputs": [],
   "source": [
    "def UniformCostSearch(S=Node (name = 'A'), G = Node (name = 'N')):\n",
    "  Open = PriorityQueue() #use __lt__\n",
    "  Closed = PriorityQueue()\n",
    "  Open.put(S)\n",
    "\n",
    "  while True:\n",
    "    if Open.empty() == True:\n",
    "      print('Tim kim that bai!!')\n",
    "      return \n",
    "    O = Open.get()\n",
    "    Closed.put(O)\n",
    "    print('Duyet: ', O.name, O.g)\n",
    "    if equal(O, G) == True:\n",
    "      print('Tim kiem thanh cong')\n",
    "      getPath(O)\n",
    "      print('distance: ', O.g)\n",
    "      return\n",
    "# get child of o\n",
    "  i = 0\n",
    "  while i < len(data[O.name]):\n",
    "    name = data[O.name][i]\n",
    "    g = O.g + data[O.name][i+1]\n",
    "    tmp = Node(name = name, g = g)\n",
    "    tmp.par = O\n",
    "\n",
    "    ok1 = checkInPriority(tmp, Open)\n",
    "    ok2 = checkInPoriority(tmp, Closed)\n",
    "    if not ok1 and not ok2:\n",
    "      Open.put(tmp)\n",
    "    i += 2"
   ]
  },
  {
   "cell_type": "code",
   "execution_count": 7,
   "metadata": {},
   "outputs": [
    {
     "name": "stdout",
     "output_type": "stream",
     "text": [
      "Duyet:  A 0\n",
      "Tim kim that bai!!\n"
     ]
    }
   ],
   "source": [
    "UniformCostSearch(Node('A'), Node('N'))"
   ]
  }
 ],
 "metadata": {
  "kernelspec": {
   "display_name": "Python 3",
   "language": "python",
   "name": "python3"
  },
  "language_info": {
   "codemirror_mode": {
    "name": "ipython",
    "version": 3
   },
   "file_extension": ".py",
   "mimetype": "text/x-python",
   "name": "python",
   "nbconvert_exporter": "python",
   "pygments_lexer": "ipython3",
   "version": "3.11.5"
  }
 },
 "nbformat": 4,
 "nbformat_minor": 2
}
