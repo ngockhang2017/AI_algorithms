{
 "cells": [
  {
   "cell_type": "markdown",
   "metadata": {},
   "source": [
    "*THUẬT TOÁN UNIFORM - COST SEARCH"
   ]
  },
  {
   "cell_type": "code",
   "execution_count": 2,
   "metadata": {},
   "outputs": [],
   "source": [
    "from collections import defaultdict\n",
    "from queue import PriorityQueue"
   ]
  },
  {
   "cell_type": "code",
   "execution_count": 5,
   "metadata": {},
   "outputs": [
    {
     "name": "stdout",
     "output_type": "stream",
     "text": [
      "| Node  | Frontiers                 | Reached                   | Cost       |\n",
      "| A     | -                         | A                         | 0          |\n",
      "| B     | C                         | B, A                      | 1          |\n",
      "| D     | C, E                      | D, B, A                   | 3          |\n",
      "| C     | E                         | D, C, B, A                | 4          |\n",
      "| E     | F, G                      | D, C, A, E, B             | 6          |\n",
      "| F     | G, H                      | D, C, A, E, B, F          | 7          |\n",
      "| G     | H                         | D, C, G, A, E, B, F       | 11         |\n",
      "| H     | -                         | D, C, G, A, E, B, F, H    | 14         |\n",
      "{'A': {'B': 75, 'S': 140, 'T': 118}, 'B': {'A': 75, 'O': 71}, 'O': {'B': 71, 'S': 151}, 'S': {'A': 140, 'O': 151, 'F': 99, 'R': 80}, 'T': {'A': 118, 'L': 111}, 'L': {'T': 111, 'M': 70}, 'M': {'L': 70, 'D': 75}, 'D': {'M': 75, 'C': 120}, 'C': {'D': 120, 'R': 146, 'P': 138}, 'R': {'S': 80, 'C': 146, 'P': 97}, 'F': {'S': 99, 'Bu': 211}, 'P': {'R': 97, 'C': 138, 'Bu': 101}, 'Bu': {'F': 211, 'P': 101, 'U': 85, 'G': 90}, 'U': {'Bu': 85, 'V': 142, 'H': 98}, 'V': {'U': 142, 'I': 92}, 'I': {'V': 92, 'N': 87}, 'N': {'I': 87}, 'H': {'U': 98, 'E': 86}, 'E': {'H': 86}, 'G': {'Bu': 90}}\n"
     ]
    }
   ],
   "source": [
    "import heapq\n",
    "\n",
    "def uniform_cost_search(graph, start_node):\n",
    "    visited = set()  # Tập hợp để lưu các đỉnh đã được thăm\n",
    "    priority_queue = [(0, start_node)]  # Hàng đợi ưu tiên để theo dõi các nút và chi phí tích lũy\n",
    "\n",
    "    # In bảng tiêu đề\n",
    "    print(f\"| {'Node':<5} | {'Frontiers':<25} | {'Reached':<25} | {'Cost':<10} |\")\n",
    "\n",
    "    while priority_queue:\n",
    "        cost, current_node = heapq.heappop(priority_queue)  # Lấy nút có chi phí thấp nhất từ hàng đợi\n",
    "\n",
    "        if current_node not in visited:\n",
    "            visited.add(current_node)  # Đánh dấu đỉnh hiện tại là đã thăm\n",
    "\n",
    "            # In thông tin hiện tại ra màn hình\n",
    "            frontiers = ', '.join(node for _, node in priority_queue) if priority_queue else '-'\n",
    "            reached = ', '.join(visited)\n",
    "            print(f\"| {current_node:<5} | {frontiers:<25} | {reached:<25} | {cost:<10} |\")\n",
    "\n",
    "            # Thêm các đỉnh kề chưa được thăm vào hàng đợi ưu tiên\n",
    "            for neighbor, edge_cost in graph[current_node].items():\n",
    "                if neighbor not in visited:\n",
    "                    heapq.heappush(priority_queue, (cost + edge_cost, neighbor))\n",
    "                    \n",
    "example_graph_1 = {\n",
    "    'A': {'B': 1, 'C': 4},\n",
    "    'B': {'A': 1, 'D': 2, 'E': 5},\n",
    "    'C': {'A': 4, 'F': 3, 'G': 7},\n",
    "    'D': {'B': 2},\n",
    "    'E': {'B': 5, 'H': 8},\n",
    "    'F': {'C': 3},\n",
    "    'G': {'C': 7},\n",
    "    'H': {'E': 8}\n",
    "}\n",
    "\n",
    "example_graph = {  # graph này là cho bài toàn romania\n",
    "    'A': {'B': 75, 'S': 140, 'T': 118},\n",
    "    'B': {'A': 75, 'O': 71},\n",
    "    'O': {'B': 71, 'S': 151},\n",
    "    'S': {'A': 140, 'O': 151, 'F': 99, 'R': 80},\n",
    "    'T': {'A': 118, 'L': 111},\n",
    "    'L': {'T': 111, 'M': 70},\n",
    "    'M': {'L': 70, 'D': 75},\n",
    "    'D': {'M': 75, 'C' :120},\n",
    "    'C': {'D': 120, 'R': 146, 'P': 138},\n",
    "    'R': {'S': 80, 'C': 146, 'P': 97},\n",
    "    'F': {'S': 99, 'Bu': 211},\n",
    "    'P': {'R': 97, 'C': 138, 'Bu': 101},\n",
    "    'Bu': {'F': 211, 'P': 101, 'U': 85, 'G': 90},\n",
    "    'U': {'Bu': 85, 'V': 142, 'H': 98},\n",
    "    'V': {'U': 142, 'I': 92},\n",
    "    'I': {'V': 92, 'N': 87},\n",
    "    'N': {'I': 87},\n",
    "    'H': {'U': 98, 'E': 86},\n",
    "    'E': {'H': 86},\n",
    "    'G': {'Bu': 90}\n",
    "}\n",
    "# Gọi hàm UCS với đỉnh bắt đầu là 'A'\n",
    "# uniform_cost_search(example_graph, 'A')\n",
    "uniform_cost_search(example_graph_1, 'A')\n"
   ]
  }
 ],
 "metadata": {
  "kernelspec": {
   "display_name": "Python 3",
   "language": "python",
   "name": "python3"
  },
  "language_info": {
   "codemirror_mode": {
    "name": "ipython",
    "version": 3
   },
   "file_extension": ".py",
   "mimetype": "text/x-python",
   "name": "python",
   "nbconvert_exporter": "python",
   "pygments_lexer": "ipython3",
   "version": "3.12.0"
  }
 },
 "nbformat": 4,
 "nbformat_minor": 2
}
