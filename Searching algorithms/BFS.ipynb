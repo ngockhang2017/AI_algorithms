{
 "cells": [
  {
   "cell_type": "markdown",
   "metadata": {},
   "source": [
    "Thuật toán tìm kiếm theo chiều rộng - Breath first search(BFS)"
   ]
  },
  {
   "cell_type": "code",
   "execution_count": 3,
   "metadata": {},
   "outputs": [
    {
     "name": "stdout",
     "output_type": "stream",
     "text": [
      "| Level | Node  | Frontier                  | Reached                   |\n",
      "| 0     | A     |                           | A                         |\n",
      "+-------+-------+-------------------------+-------------------------+\n",
      "| 1     | B     | C                         | B, A                      |\n",
      "+-------+-------+-------------------------+-------------------------+\n",
      "| 2     | C     | D, E                      | B, A, C                   |\n",
      "+-------+-------+-------------------------+-------------------------+\n",
      "| 3     | D     | E, F, G                   | B, D, A, C                |\n",
      "+-------+-------+-------------------------+-------------------------+\n",
      "| 4     | E     | F, G                      | C, E, A, D, B             |\n",
      "+-------+-------+-------------------------+-------------------------+\n",
      "| 5     | F     | G, H                      | C, E, A, D, F, B          |\n",
      "+-------+-------+-------------------------+-------------------------+\n",
      "| 6     | G     | H                         | G, C, E, A, D, F, B       |\n",
      "+-------+-------+-------------------------+-------------------------+\n",
      "| 7     | H     |                           | H, G, C, E, A, D, F, B    |\n"
     ]
    }
   ],
   "source": [
    "from collections import deque\n",
    "\n",
    "def print_table_header():\n",
    "    print(f\"| {'Level':<5} | {'Node':<5} | {'Frontier':<25} | {'Reached':<25} |\")\n",
    "\n",
    "def print_table_row(level, node, frontier, reached):\n",
    "    print(f\"| {level:<5} | {node:<5} | {', '.join(frontier):<25} | {', '.join(reached):<25} |\")\n",
    "\n",
    "def print_separator():\n",
    "    print(\"+-------+-------+-------------------------+-------------------------+\")\n",
    "\n",
    "\n",
    "def bfs(graph, start):\n",
    "    frontier = deque([start])\n",
    "    reached = set()\n",
    "    level = 0\n",
    "\n",
    "    print_table_header()\n",
    "\n",
    "    while frontier:\n",
    "        current_node = frontier.popleft()\n",
    "\n",
    "        if current_node not in reached:\n",
    "            reached.add(current_node)\n",
    "            print_table_row(level, current_node, list(frontier), list(reached))\n",
    "\n",
    "            for neighbor in graph[current_node]:\n",
    "                if neighbor not in reached and neighbor not in frontier:\n",
    "                    frontier.append(neighbor)\n",
    "\n",
    "        if not frontier:# kết thúc\n",
    "            break  \n",
    "\n",
    "        # Move to the next level when the frontier is empty\n",
    "        level += 1\n",
    "        print_separator()\n",
    "\n",
    "\n",
    "\n",
    "# Example graph represented as an adjacency list\n",
    "graph = {\n",
    "    'A': ['B', 'C'],\n",
    "    'B': ['A', 'D', 'E'],\n",
    "    'C': ['A', 'F', 'G'],\n",
    "    'D': ['B'],\n",
    "    'E': ['B', 'H'],\n",
    "    'F': ['C'],\n",
    "    'G': ['C'],\n",
    "    'H': ['E']\n",
    "}\n",
    "\n",
    "# Start BFS from node 'A'\n",
    "bfs(graph, 'A')"
   ]
  }
 ],
 "metadata": {
  "kernelspec": {
   "display_name": "Python 3",
   "language": "python",
   "name": "python3"
  },
  "language_info": {
   "codemirror_mode": {
    "name": "ipython",
    "version": 3
   },
   "file_extension": ".py",
   "mimetype": "text/x-python",
   "name": "python",
   "nbconvert_exporter": "python",
   "pygments_lexer": "ipython3",
   "version": "3.11.5"
  }
 },
 "nbformat": 4,
 "nbformat_minor": 2
}
