{
 "cells": [
  {
   "cell_type": "code",
   "execution_count": 2,
   "metadata": {},
   "outputs": [],
   "source": [
    "from collections import deque"
   ]
  },
  {
   "cell_type": "code",
   "execution_count": 10,
   "metadata": {},
   "outputs": [
    {
     "name": "stdout",
     "output_type": "stream",
     "text": [
      "| Node  | Frontiers                 | Reached                   |\n",
      "| A     | -                         | A                         |\n",
      "| C     | B                         | C, A                      |\n",
      "| G     | B, F                      | C, G, A                   |\n",
      "| F     | B                         | F, C, G, A                |\n",
      "| B     | -                         | B, G, C, F, A             |\n",
      "| E     | D                         | B, G, E, C, F, A          |\n",
      "| H     | D                         | B, G, E, C, F, A, H       |\n",
      "| D     | -                         | B, G, E, C, F, A, H, D    |\n"
     ]
    }
   ],
   "source": [
    "# def dfs(graph, start, visited=None):\n",
    "#     # print(\"Node     Frontier     Reached\")\n",
    "#     str_result = \"\"\n",
    "#     if visited is None:\n",
    "#         visited = set()\n",
    "\n",
    "\n",
    "#     # print(start, end=\"     \")\n",
    "#     visited.add(start)\n",
    "\n",
    "#     for neighbor in graph[start]:\n",
    "#         if neighbor not in visited:\n",
    "#             dfs(graph, neighbor, visited)\n",
    "\n",
    "\n",
    "\n",
    "def dfs(graph, start_node):\n",
    "    visited = set()  # Tập hợp để lưu các đỉnh đã được thăm\n",
    "    stack = [start_node]  # Stack để theo dõi các đỉnh cần kiểm tra\n",
    "\n",
    "    # In bảng tiêu đề\n",
    "    print(f\"| {'Node':<5} | {'Frontiers':<25} | {'Reached':<25} |\")\n",
    "\n",
    "    while stack:\n",
    "        current_node = stack.pop()  # Lấy đỉnh đầu tiên từ stack\n",
    "\n",
    "        if current_node not in visited:\n",
    "            visited.add(current_node)  # Đánh dấu đỉnh hiện tại là mình đã kiểm tra nó rồi\n",
    "\n",
    "            # In thông tin hiện tại ra màn hình\n",
    "            frontiers = ', '.join(stack) if stack else '-'\n",
    "            reached = ', '.join(visited)\n",
    "            print(f\"| {current_node:<5} | {frontiers:<25} | {reached:<25} |\")\n",
    "\n",
    "            # Thêm các đỉnh kề chưa được thăm vào stack\n",
    "            stack.extend(neighbor for neighbor in graph[current_node] if neighbor not in visited)\n",
    "\n",
    "\n",
    "graph = {\n",
    "    'A': ['B', 'C'],\n",
    "    'B': ['A', 'D', 'E'],\n",
    "    'C': ['A', 'F', 'G'],\n",
    "    'D': ['B'],\n",
    "    'E': ['B', 'H'],\n",
    "    'F': ['C'],\n",
    "    'G': ['C'],\n",
    "    'H': ['E']\n",
    "}\n",
    "# Bắt đầu DFS từ đỉnh 'A'\n",
    "dfs(graph, 'A')"
   ]
  }
 ],
 "metadata": {
  "kernelspec": {
   "display_name": "Python 3",
   "language": "python",
   "name": "python3"
  },
  "language_info": {
   "codemirror_mode": {
    "name": "ipython",
    "version": 3
   },
   "file_extension": ".py",
   "mimetype": "text/x-python",
   "name": "python",
   "nbconvert_exporter": "python",
   "pygments_lexer": "ipython3",
   "version": "3.11.5"
  }
 },
 "nbformat": 4,
 "nbformat_minor": 2
}
