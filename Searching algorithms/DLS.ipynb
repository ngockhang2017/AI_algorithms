{
 "cells": [
  {
   "cell_type": "markdown",
   "metadata": {},
   "source": [
    "THUẬT TOÁN DEEP LIMITED SEARCH"
   ]
  },
  {
   "cell_type": "code",
   "execution_count": 1,
   "metadata": {},
   "outputs": [
    {
     "name": "stdout",
     "output_type": "stream",
     "text": [
      "| Node  | Frontiers                 | Reached                   | Depth      |\n",
      "| A     | -                         | A                         | 0          |\n",
      "| C     | B                         | A, C                      | 1          |\n",
      "| G     | B, F                      | A, G, C                   | 2          |\n",
      "| F     | B                         | A, F, G, C                | 2          |\n",
      "| B     | -                         | B, A, G, C, F             | 1          |\n",
      "| E     | D                         | B, A, G, E, C, F          | 2          |\n",
      "| D     | -                         | B, A, G, E, C, F, D       | 2          |\n"
     ]
    }
   ],
   "source": [
    "def depth_limited_search(graph, start_node, depth_limit):\n",
    "    visited = set()  # Tập hợp để lưu các đỉnh đã được thăm\n",
    "    stack = [(start_node, 0)]  # Stack để theo dõi các đỉnh cần kiểm tra và độ sâu\n",
    "\n",
    "    # In bảng tiêu đề\n",
    "    print(f\"| {'Node':<5} | {'Frontiers':<25} | {'Reached':<25} | {'Depth':<10} |\")\n",
    "\n",
    "    while stack:\n",
    "        current_node, depth = stack.pop()  # Lấy đỉnh và độ sâu từ stack\n",
    "\n",
    "        if current_node not in visited and depth <= depth_limit:\n",
    "            visited.add(current_node)  # Đánh dấu đỉnh hiện tại là đã thăm\n",
    "\n",
    "            # In thông tin hiện tại ra màn hình\n",
    "            frontiers = ', '.join(node for node, _ in stack) if stack else '-'\n",
    "            reached = ', '.join(visited)\n",
    "            print(f\"| {current_node:<5} | {frontiers:<25} | {reached:<25} | {depth:<10} |\")\n",
    "\n",
    "            # Thêm các đỉnh kề chưa được thăm vào stack với độ sâu tăng lên\n",
    "            stack.extend((neighbor, depth + 1) for neighbor in graph[current_node] if neighbor not in visited)\n",
    "\n",
    "# Ví dụ sử dụng\n",
    "# Đồ thị được biểu diễn bằng danh sách kề\n",
    "example_graph = {\n",
    "    'A': ['B', 'C'],\n",
    "    'B': ['A', 'D', 'E'],\n",
    "    'C': ['A', 'F', 'G'],\n",
    "    'D': ['B'],\n",
    "    'E': ['B', 'H'],\n",
    "    'F': ['C'],\n",
    "    'G': ['C'],\n",
    "    'H': ['E']\n",
    "}\n",
    "\n",
    "# #đỉnh bắt đầu là 'A' và giới hạn độ sâu là 2\n",
    "depth_limit = 2\n",
    "depth_limited_search(example_graph, 'A', depth_limit)\n"
   ]
  }
 ],
 "metadata": {
  "kernelspec": {
   "display_name": "Python 3",
   "language": "python",
   "name": "python3"
  },
  "language_info": {
   "codemirror_mode": {
    "name": "ipython",
    "version": 3
   },
   "file_extension": ".py",
   "mimetype": "text/x-python",
   "name": "python",
   "nbconvert_exporter": "python",
   "pygments_lexer": "ipython3",
   "version": "3.11.5"
  }
 },
 "nbformat": 4,
 "nbformat_minor": 2
}
